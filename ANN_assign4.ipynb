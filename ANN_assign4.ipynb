{
 "cells": [
  {
   "cell_type": "code",
   "execution_count": 1,
   "id": "521b8e89",
   "metadata": {},
   "outputs": [
    {
     "name": "stdout",
     "output_type": "stream",
     "text": [
      "Prediction: 1\n"
     ]
    }
   ],
   "source": [
    "import numpy as np\n",
    "\n",
    "class ART:\n",
    "    def __init__(self, input_size, vigilance):\n",
    "        # Initialize the weights with small random values\n",
    "        self.W = np.random.randn(input_size)\n",
    "        self.vigilance = vigilance\n",
    "\n",
    "    def predict(self, X):\n",
    "        # Perform the matching process\n",
    "        while True:\n",
    "            # Compute the match value\n",
    "            match = np.dot(X, self.W) / np.sum(self.W)\n",
    "\n",
    "            # Check if the match exceeds the vigilance parameter\n",
    "            if match >= self.vigilance:\n",
    "                return 1  # Pattern matches, return 1\n",
    "            else:\n",
    "                # Adjust the weight vector to allow for new patterns\n",
    "                self.W = np.maximum(self.W, X)\n",
    "\n",
    "    def train(self, X):\n",
    "        # Train the network on a single pattern\n",
    "        while True:\n",
    "            # Compute the match value\n",
    "            match = np.dot(X, self.W) / np.sum(self.W)\n",
    "\n",
    "            # Check if the match exceeds the vigilance parameter\n",
    "            if match >= self.vigilance:\n",
    "                return  # Pattern matches, training complete\n",
    "            else:\n",
    "                # Adjust the weight vector to allow for new patterns\n",
    "                self.W = np.maximum(self.W, X)\n",
    "\n",
    "# Example usage\n",
    "# Initialize the ART network with input size of 4 and vigilance parameter of 0.5\n",
    "input_size = 4\n",
    "vigilance = 0.5\n",
    "art = ART(input_size, vigilance)\n",
    "\n",
    "# Train the network on a single pattern\n",
    "X = np.array([1, 0, 1, 0])\n",
    "art.train(X)\n",
    "\n",
    "# Test the network on a new pattern\n",
    "X_new = np.array([1, 1, 0, 0])\n",
    "prediction = art.predict(X_new)\n",
    "print(\"Prediction:\", prediction)\n"
   ]
  },
  {
   "cell_type": "code",
   "execution_count": null,
   "id": "ec66697a",
   "metadata": {},
   "outputs": [],
   "source": []
  }
 ],
 "metadata": {
  "kernelspec": {
   "display_name": "Python 3 (ipykernel)",
   "language": "python",
   "name": "python3"
  },
  "language_info": {
   "codemirror_mode": {
    "name": "ipython",
    "version": 3
   },
   "file_extension": ".py",
   "mimetype": "text/x-python",
   "name": "python",
   "nbconvert_exporter": "python",
   "pygments_lexer": "ipython3",
   "version": "3.9.12"
  }
 },
 "nbformat": 4,
 "nbformat_minor": 5
}
